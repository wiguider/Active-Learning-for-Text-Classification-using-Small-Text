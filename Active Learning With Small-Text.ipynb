{
 "cells": [
  {
   "attachments": {},
   "cell_type": "markdown",
   "metadata": {},
   "source": [
    "# Active Learning for Text Classification using Small-Text\n",
    "\n",
    "This is an introductory example that shows you how to use [small-text](https://github.com/webis-de/small-text) to perform active learning for text classification using classifiers provided by [sklearn](https://scikit-learn.org/)."
   ]
  },
  {
   "cell_type": "code",
   "execution_count": 1,
   "metadata": {},
   "outputs": [
    {
     "name": "stdout",
     "output_type": "stream",
     "text": [
      "Requirement already satisfied: small-text==1.3.0 in c:\\users\\walid.aguiler\\appdata\\local\\packages\\pythonsoftwarefoundation.python.3.10_qbz5n2kfra8p0\\localcache\\local-packages\\python310\\site-packages (1.3.0)\n",
      "Requirement already satisfied: numpy>=1.20.0 in c:\\users\\walid.aguiler\\appdata\\local\\packages\\pythonsoftwarefoundation.python.3.10_qbz5n2kfra8p0\\localcache\\local-packages\\python310\\site-packages (from small-text==1.3.0) (1.23.4)\n",
      "Requirement already satisfied: tqdm in c:\\users\\walid.aguiler\\appdata\\local\\packages\\pythonsoftwarefoundation.python.3.10_qbz5n2kfra8p0\\localcache\\local-packages\\python310\\site-packages (from small-text==1.3.0) (4.64.1)\n",
      "Requirement already satisfied: scikit-learn>=0.24.1 in c:\\users\\walid.aguiler\\appdata\\local\\packages\\pythonsoftwarefoundation.python.3.10_qbz5n2kfra8p0\\localcache\\local-packages\\python310\\site-packages (from small-text==1.3.0) (1.1.1)\n",
      "Requirement already satisfied: dill in c:\\users\\walid.aguiler\\appdata\\local\\packages\\pythonsoftwarefoundation.python.3.10_qbz5n2kfra8p0\\localcache\\local-packages\\python310\\site-packages (from small-text==1.3.0) (0.3.6)\n",
      "Requirement already satisfied: scipy in c:\\users\\walid.aguiler\\appdata\\local\\packages\\pythonsoftwarefoundation.python.3.10_qbz5n2kfra8p0\\localcache\\local-packages\\python310\\site-packages (from small-text==1.3.0) (1.9.3)\n",
      "Requirement already satisfied: packaging in c:\\users\\walid.aguiler\\appdata\\local\\packages\\pythonsoftwarefoundation.python.3.10_qbz5n2kfra8p0\\localcache\\local-packages\\python310\\site-packages (from small-text==1.3.0) (21.3)\n",
      "Requirement already satisfied: joblib>=1.0.0 in c:\\users\\walid.aguiler\\appdata\\local\\packages\\pythonsoftwarefoundation.python.3.10_qbz5n2kfra8p0\\localcache\\local-packages\\python310\\site-packages (from scikit-learn>=0.24.1->small-text==1.3.0) (1.2.0)\n",
      "Requirement already satisfied: threadpoolctl>=2.0.0 in c:\\users\\walid.aguiler\\appdata\\local\\packages\\pythonsoftwarefoundation.python.3.10_qbz5n2kfra8p0\\localcache\\local-packages\\python310\\site-packages (from scikit-learn>=0.24.1->small-text==1.3.0) (3.1.0)\n",
      "Requirement already satisfied: pyparsing!=3.0.5,>=2.0.2 in c:\\users\\walid.aguiler\\appdata\\local\\packages\\pythonsoftwarefoundation.python.3.10_qbz5n2kfra8p0\\localcache\\local-packages\\python310\\site-packages (from packaging->small-text==1.3.0) (3.0.9)\n",
      "Requirement already satisfied: colorama in c:\\users\\walid.aguiler\\appdata\\local\\packages\\pythonsoftwarefoundation.python.3.10_qbz5n2kfra8p0\\localcache\\local-packages\\python310\\site-packages (from tqdm->small-text==1.3.0) (0.4.6)\n",
      "Note: you may need to restart the kernel to use updated packages.\n"
     ]
    },
    {
     "name": "stderr",
     "output_type": "stream",
     "text": [
      "\n",
      "[notice] A new release of pip is available: 23.0 -> 23.0.1\n",
      "[notice] To update, run: C:\\Users\\walid.aguiler\\AppData\\Local\\Microsoft\\WindowsApps\\PythonSoftwareFoundation.Python.3.10_qbz5n2kfra8p0\\python.exe -m pip install --upgrade pip\n"
     ]
    },
    {
     "name": "stdout",
     "output_type": "stream",
     "text": [
      "Requirement already satisfied: datasets in c:\\users\\walid.aguiler\\appdata\\local\\packages\\pythonsoftwarefoundation.python.3.10_qbz5n2kfra8p0\\localcache\\local-packages\\python310\\site-packages (2.10.0)\n",
      "Requirement already satisfied: matplotlib in c:\\users\\walid.aguiler\\appdata\\local\\packages\\pythonsoftwarefoundation.python.3.10_qbz5n2kfra8p0\\localcache\\local-packages\\python310\\site-packages (3.6.2)\n",
      "Requirement already satisfied: seaborn in c:\\users\\walid.aguiler\\appdata\\local\\packages\\pythonsoftwarefoundation.python.3.10_qbz5n2kfra8p0\\localcache\\local-packages\\python310\\site-packages (0.12.2)\n",
      "Requirement already satisfied: multiprocess in c:\\users\\walid.aguiler\\appdata\\local\\packages\\pythonsoftwarefoundation.python.3.10_qbz5n2kfra8p0\\localcache\\local-packages\\python310\\site-packages (from datasets) (0.70.14)\n",
      "Requirement already satisfied: dill<0.3.7,>=0.3.0 in c:\\users\\walid.aguiler\\appdata\\local\\packages\\pythonsoftwarefoundation.python.3.10_qbz5n2kfra8p0\\localcache\\local-packages\\python310\\site-packages (from datasets) (0.3.6)\n",
      "Requirement already satisfied: pandas in c:\\users\\walid.aguiler\\appdata\\local\\packages\\pythonsoftwarefoundation.python.3.10_qbz5n2kfra8p0\\localcache\\local-packages\\python310\\site-packages (from datasets) (1.5.1)\n",
      "Requirement already satisfied: numpy>=1.17 in c:\\users\\walid.aguiler\\appdata\\local\\packages\\pythonsoftwarefoundation.python.3.10_qbz5n2kfra8p0\\localcache\\local-packages\\python310\\site-packages (from datasets) (1.23.4)\n",
      "Requirement already satisfied: pyarrow>=6.0.0 in c:\\users\\walid.aguiler\\appdata\\local\\packages\\pythonsoftwarefoundation.python.3.10_qbz5n2kfra8p0\\localcache\\local-packages\\python310\\site-packages (from datasets) (11.0.0)\n",
      "Requirement already satisfied: fsspec[http]>=2021.11.1 in c:\\users\\walid.aguiler\\appdata\\local\\packages\\pythonsoftwarefoundation.python.3.10_qbz5n2kfra8p0\\localcache\\local-packages\\python310\\site-packages (from datasets) (2023.1.0)\n",
      "Requirement already satisfied: aiohttp in c:\\users\\walid.aguiler\\appdata\\local\\packages\\pythonsoftwarefoundation.python.3.10_qbz5n2kfra8p0\\localcache\\local-packages\\python310\\site-packages (from datasets) (3.8.4)\n",
      "Requirement already satisfied: tqdm>=4.62.1 in c:\\users\\walid.aguiler\\appdata\\local\\packages\\pythonsoftwarefoundation.python.3.10_qbz5n2kfra8p0\\localcache\\local-packages\\python310\\site-packages (from datasets) (4.64.1)\n",
      "Requirement already satisfied: pyyaml>=5.1 in c:\\users\\walid.aguiler\\appdata\\local\\packages\\pythonsoftwarefoundation.python.3.10_qbz5n2kfra8p0\\localcache\\local-packages\\python310\\site-packages (from datasets) (6.0)\n",
      "Requirement already satisfied: responses<0.19 in c:\\users\\walid.aguiler\\appdata\\local\\packages\\pythonsoftwarefoundation.python.3.10_qbz5n2kfra8p0\\localcache\\local-packages\\python310\\site-packages (from datasets) (0.18.0)\n",
      "Requirement already satisfied: requests>=2.19.0 in c:\\users\\walid.aguiler\\appdata\\local\\packages\\pythonsoftwarefoundation.python.3.10_qbz5n2kfra8p0\\localcache\\local-packages\\python310\\site-packages (from datasets) (2.28.1)\n",
      "Requirement already satisfied: xxhash in c:\\users\\walid.aguiler\\appdata\\local\\packages\\pythonsoftwarefoundation.python.3.10_qbz5n2kfra8p0\\localcache\\local-packages\\python310\\site-packages (from datasets) (3.2.0)\n",
      "Requirement already satisfied: packaging in c:\\users\\walid.aguiler\\appdata\\local\\packages\\pythonsoftwarefoundation.python.3.10_qbz5n2kfra8p0\\localcache\\local-packages\\python310\\site-packages (from datasets) (21.3)\n",
      "Requirement already satisfied: huggingface-hub<1.0.0,>=0.2.0 in c:\\users\\walid.aguiler\\appdata\\local\\packages\\pythonsoftwarefoundation.python.3.10_qbz5n2kfra8p0\\localcache\\local-packages\\python310\\site-packages (from datasets) (0.10.1)\n",
      "Requirement already satisfied: contourpy>=1.0.1 in c:\\users\\walid.aguiler\\appdata\\local\\packages\\pythonsoftwarefoundation.python.3.10_qbz5n2kfra8p0\\localcache\\local-packages\\python310\\site-packages (from matplotlib) (1.0.6)\n",
      "Requirement already satisfied: fonttools>=4.22.0 in c:\\users\\walid.aguiler\\appdata\\local\\packages\\pythonsoftwarefoundation.python.3.10_qbz5n2kfra8p0\\localcache\\local-packages\\python310\\site-packages (from matplotlib) (4.38.0)\n",
      "Requirement already satisfied: cycler>=0.10 in c:\\users\\walid.aguiler\\appdata\\local\\packages\\pythonsoftwarefoundation.python.3.10_qbz5n2kfra8p0\\localcache\\local-packages\\python310\\site-packages (from matplotlib) (0.11.0)\n",
      "Requirement already satisfied: python-dateutil>=2.7 in c:\\users\\walid.aguiler\\appdata\\local\\packages\\pythonsoftwarefoundation.python.3.10_qbz5n2kfra8p0\\localcache\\local-packages\\python310\\site-packages (from matplotlib) (2.8.2)\n",
      "Requirement already satisfied: pyparsing>=2.2.1 in c:\\users\\walid.aguiler\\appdata\\local\\packages\\pythonsoftwarefoundation.python.3.10_qbz5n2kfra8p0\\localcache\\local-packages\\python310\\site-packages (from matplotlib) (3.0.9)\n",
      "Requirement already satisfied: kiwisolver>=1.0.1 in c:\\users\\walid.aguiler\\appdata\\local\\packages\\pythonsoftwarefoundation.python.3.10_qbz5n2kfra8p0\\localcache\\local-packages\\python310\\site-packages (from matplotlib) (1.4.4)\n",
      "Requirement already satisfied: pillow>=6.2.0 in c:\\users\\walid.aguiler\\appdata\\local\\packages\\pythonsoftwarefoundation.python.3.10_qbz5n2kfra8p0\\localcache\\local-packages\\python310\\site-packages (from matplotlib) (9.3.0)\n",
      "Requirement already satisfied: async-timeout<5.0,>=4.0.0a3 in c:\\users\\walid.aguiler\\appdata\\local\\packages\\pythonsoftwarefoundation.python.3.10_qbz5n2kfra8p0\\localcache\\local-packages\\python310\\site-packages (from aiohttp->datasets) (4.0.2)\n",
      "Requirement already satisfied: yarl<2.0,>=1.0 in c:\\users\\walid.aguiler\\appdata\\local\\packages\\pythonsoftwarefoundation.python.3.10_qbz5n2kfra8p0\\localcache\\local-packages\\python310\\site-packages (from aiohttp->datasets) (1.8.2)\n",
      "Requirement already satisfied: frozenlist>=1.1.1 in c:\\users\\walid.aguiler\\appdata\\local\\packages\\pythonsoftwarefoundation.python.3.10_qbz5n2kfra8p0\\localcache\\local-packages\\python310\\site-packages (from aiohttp->datasets) (1.3.3)\n",
      "Requirement already satisfied: attrs>=17.3.0 in c:\\users\\walid.aguiler\\appdata\\local\\packages\\pythonsoftwarefoundation.python.3.10_qbz5n2kfra8p0\\localcache\\local-packages\\python310\\site-packages (from aiohttp->datasets) (22.1.0)\n",
      "Requirement already satisfied: charset-normalizer<4.0,>=2.0 in c:\\users\\walid.aguiler\\appdata\\local\\packages\\pythonsoftwarefoundation.python.3.10_qbz5n2kfra8p0\\localcache\\local-packages\\python310\\site-packages (from aiohttp->datasets) (2.1.1)\n",
      "Requirement already satisfied: aiosignal>=1.1.2 in c:\\users\\walid.aguiler\\appdata\\local\\packages\\pythonsoftwarefoundation.python.3.10_qbz5n2kfra8p0\\localcache\\local-packages\\python310\\site-packages (from aiohttp->datasets) (1.3.1)\n",
      "Requirement already satisfied: multidict<7.0,>=4.5 in c:\\users\\walid.aguiler\\appdata\\local\\packages\\pythonsoftwarefoundation.python.3.10_qbz5n2kfra8p0\\localcache\\local-packages\\python310\\site-packages (from aiohttp->datasets) (6.0.4)\n",
      "Requirement already satisfied: filelock in c:\\users\\walid.aguiler\\appdata\\local\\packages\\pythonsoftwarefoundation.python.3.10_qbz5n2kfra8p0\\localcache\\local-packages\\python310\\site-packages (from huggingface-hub<1.0.0,>=0.2.0->datasets) (3.8.0)\n",
      "Requirement already satisfied: typing-extensions>=3.7.4.3 in c:\\users\\walid.aguiler\\appdata\\local\\packages\\pythonsoftwarefoundation.python.3.10_qbz5n2kfra8p0\\localcache\\local-packages\\python310\\site-packages (from huggingface-hub<1.0.0,>=0.2.0->datasets) (4.4.0)\n",
      "Requirement already satisfied: pytz>=2020.1 in c:\\users\\walid.aguiler\\appdata\\local\\packages\\pythonsoftwarefoundation.python.3.10_qbz5n2kfra8p0\\localcache\\local-packages\\python310\\site-packages (from pandas->datasets) (2022.6)\n",
      "Requirement already satisfied: six>=1.5 in c:\\users\\walid.aguiler\\appdata\\local\\packages\\pythonsoftwarefoundation.python.3.10_qbz5n2kfra8p0\\localcache\\local-packages\\python310\\site-packages (from python-dateutil>=2.7->matplotlib) (1.16.0)\n",
      "Requirement already satisfied: idna<4,>=2.5 in c:\\users\\walid.aguiler\\appdata\\local\\packages\\pythonsoftwarefoundation.python.3.10_qbz5n2kfra8p0\\localcache\\local-packages\\python310\\site-packages (from requests>=2.19.0->datasets) (2.10)\n",
      "Requirement already satisfied: urllib3<1.27,>=1.21.1 in c:\\users\\walid.aguiler\\appdata\\local\\packages\\pythonsoftwarefoundation.python.3.10_qbz5n2kfra8p0\\localcache\\local-packages\\python310\\site-packages (from requests>=2.19.0->datasets) (1.26.12)\n",
      "Requirement already satisfied: certifi>=2017.4.17 in c:\\users\\walid.aguiler\\appdata\\local\\packages\\pythonsoftwarefoundation.python.3.10_qbz5n2kfra8p0\\localcache\\local-packages\\python310\\site-packages (from requests>=2.19.0->datasets) (2022.9.24)\n",
      "Requirement already satisfied: colorama in c:\\users\\walid.aguiler\\appdata\\local\\packages\\pythonsoftwarefoundation.python.3.10_qbz5n2kfra8p0\\localcache\\local-packages\\python310\\site-packages (from tqdm>=4.62.1->datasets) (0.4.6)\n",
      "Note: you may need to restart the kernel to use updated packages.\n"
     ]
    },
    {
     "name": "stderr",
     "output_type": "stream",
     "text": [
      "\n",
      "[notice] A new release of pip is available: 23.0 -> 23.0.1\n",
      "[notice] To update, run: C:\\Users\\walid.aguiler\\AppData\\Local\\Microsoft\\WindowsApps\\PythonSoftwareFoundation.Python.3.10_qbz5n2kfra8p0\\python.exe -m pip install --upgrade pip\n"
     ]
    }
   ],
   "source": [
    "%pip install small-text==1.3.0   \n",
    "\n",
    "# additional dependencies for this example\n",
    "%pip install datasets matplotlib seaborn"
   ]
  },
  {
   "cell_type": "code",
   "execution_count": 21,
   "metadata": {},
   "outputs": [],
   "source": [
    "import warnings\n",
    "import logging\n",
    "warnings.filterwarnings('ignore')\n",
    "import datasets\n",
    "datasets.logging.set_verbosity_error()\n",
    "\n",
    "# disables the progress bar for notebooks: https://github.com/huggingface/datasets/issues/2651\n",
    "datasets.logging.get_verbosity = lambda: logging.NOTSET"
   ]
  },
  {
   "attachments": {},
   "cell_type": "markdown",
   "metadata": {},
   "source": [
    "# Data\n",
    "First, we load the rotten tomatoes dataset. This dataset contains movie reviews sentences, which are labeled by their sentiment as either positive or negative."
   ]
  },
  {
   "cell_type": "code",
   "execution_count": 22,
   "metadata": {},
   "outputs": [
    {
     "name": "stderr",
     "output_type": "stream",
     "text": [
      "100%|██████████| 3/3 [00:00<00:00, 721.54it/s]"
     ]
    },
    {
     "name": "stdout",
     "output_type": "stream",
     "text": [
      "First 10 training samples:\n",
      "\n",
      "1   the rock is destined to be the 21st century's new \" conan \" and that he's going to make a splash even greater than arnold schwarzenegger , jean-claud van damme or steven segal .\n",
      "1   the gorgeously elaborate continuation of \" the lord of the rings \" trilogy is so huge that a column of words cannot adequately describe co-writer/director peter jackson's expanded vision of j . r . r . tolkien's middle-earth .\n",
      "1   effective but too-tepid biopic\n",
      "1   if you sometimes like to go to the movies to have fun , wasabi is a good place to start .\n",
      "1   emerges as something rare , an issue movie that's so honest and keenly observed that it doesn't feel like one .\n",
      "1   the film provides some great insight into the neurotic mindset of all comics -- even those who have reached the absolute top of the game .\n",
      "1   offers that rare combination of entertainment and education .\n",
      "1   perhaps no picture ever made has more literally showed that the road to hell is paved with good intentions .\n",
      "1   steers turns in a snappy screenplay that curls at the edges ; it's so clever you want to hate it . but he somehow pulls it off .\n",
      "1   take care of my cat offers a refreshingly different slice of asian cinema .\n"
     ]
    },
    {
     "name": "stderr",
     "output_type": "stream",
     "text": [
      "\n"
     ]
    }
   ],
   "source": [
    "raw_dataset = datasets.load_dataset('rotten_tomatoes')\n",
    "num_classes = raw_dataset['train'].features['label'].num_classes\n",
    "\n",
    "print('First 10 training samples:\\n')\n",
    "for i in range(10):\n",
    "    print(raw_dataset['train']['label'][i], ' ', raw_dataset['train']['text'][i])"
   ]
  },
  {
   "cell_type": "code",
   "execution_count": 23,
   "metadata": {},
   "outputs": [],
   "source": [
    "from matplotlib import rcParams\n",
    "rcParams.update({'xtick.labelsize': 14, 'ytick.labelsize': 14, 'axes.labelsize': 16})"
   ]
  },
  {
   "attachments": {},
   "cell_type": "markdown",
   "metadata": {},
   "source": [
    "We fix the random seeds so that readers do not get confused when the results change upon repeated execution."
   ]
  },
  {
   "cell_type": "code",
   "execution_count": 31,
   "metadata": {},
   "outputs": [],
   "source": [
    "import numpy as np\n",
    "seed = 2023\n",
    "np.random.seed(seed)\n",
    "# load the dataset\n",
    "train = raw_dataset['train']\n",
    "test = raw_dataset['test']"
   ]
  },
  {
   "attachments": {},
   "cell_type": "markdown",
   "metadata": {},
   "source": [
    "## Preparing the Data\n",
    "\n",
    "Next, we have to convert this raw text data into a format usable by small-text. For the feature extraction we use TF-IDF vectorizing."
   ]
  },
  {
   "cell_type": "code",
   "execution_count": 32,
   "metadata": {},
   "outputs": [],
   "source": [
    "from sklearn.feature_extraction.text import TfidfVectorizer\n",
    "\n",
    "vectorizer = TfidfVectorizer(max_features=5000,ngram_range=(1, 3))"
   ]
  },
  {
   "attachments": {},
   "cell_type": "markdown",
   "metadata": {},
   "source": [
    "We use the `SklearnDataset.from_arrays()` helper function which constructs a `SklearnDataset` instance using the vectorizer, text, and labels."
   ]
  },
  {
   "cell_type": "code",
   "execution_count": 33,
   "metadata": {},
   "outputs": [],
   "source": [
    "from small_text import SklearnDataset\n",
    "\n",
    "\n",
    "target_labels = np.arange(num_classes)\n",
    "\n",
    "\n",
    "train = SklearnDataset.from_arrays(np.array(train['text']),\n",
    "                                        np.array(train['label']),\n",
    "                                        vectorizer=vectorizer,\n",
    "                                        target_labels=target_labels)\n",
    "\n",
    "test = SklearnDataset.from_arrays(np.array(test['text']), \n",
    "                                       np.array(test['label']),\n",
    "                                       vectorizer=vectorizer,\n",
    "                                       target_labels=target_labels,\n",
    "                                       train=False)"
   ]
  },
  {
   "attachments": {},
   "cell_type": "markdown",
   "metadata": {},
   "source": [
    "## Setting up the Active Learner\n",
    "Now we constrauct a `PoolBasedActiveLearner` instance which requires a classifier factory, a query strategy, and the train dataset.\n",
    "\n",
    "To obtain a first model, we initialize the active learner by providing the true labels for 10 sentences. This corresponds to an initial labeling the real-world setting."
   ]
  },
  {
   "cell_type": "code",
   "execution_count": 34,
   "metadata": {},
   "outputs": [],
   "source": [
    "from sklearn.linear_model import LogisticRegression\n",
    "\n",
    "from small_text import (\n",
    "    PoolBasedActiveLearner,\n",
    "    PredictionEntropy,\n",
    "    SklearnClassifierFactory,\n",
    "    random_initialization_balanced\n",
    ")\n",
    "\n",
    "\n",
    "# simulates an initial labeling to warm-start the active learning process\n",
    "def initialize_active_learner(active_learner, y_train):\n",
    "\n",
    "    indices_initial = random_initialization_balanced(y_train, n_samples=200)\n",
    "    active_learner.initialize_data(indices_initial, y_train[indices_initial])\n",
    "\n",
    "    return indices_initial\n",
    "\n",
    "\n",
    "model = LogisticRegression(random_state=seed)\n",
    "\n",
    "clf_factory = SklearnClassifierFactory(model, num_classes)\n",
    "query_strategy = PredictionEntropy()\n",
    "\n",
    "active_learner = PoolBasedActiveLearner(clf_factory, query_strategy, train)\n",
    "indices_labeled = initialize_active_learner(active_learner, train.y)"
   ]
  },
  {
   "attachments": {},
   "cell_type": "markdown",
   "metadata": {},
   "source": [
    "## Active Learning Loop\n",
    "\n",
    "The main active learning loop queries the unlabeled pool and thereby decides which documents are labeled next. We then provide the labels for those documents and the active learner retrains the model. After each query, we evaluate the current model against the test set and save the result.\n",
    "\n",
    "Note: This is active learning as it is done in a scientific simulation. In reality, the label feedback would have been given by human annotators, and moreover, we would not be able to measure the test accuracy."
   ]
  },
  {
   "cell_type": "code",
   "execution_count": 35,
   "metadata": {},
   "outputs": [
    {
     "name": "stdout",
     "output_type": "stream",
     "text": [
      "Train accuracy: 1.00\n",
      "Test accuracy: 0.59\n",
      "---------------\n",
      "Iteration #0 (220 samples)\n",
      "Train accuracy: 1.00\n",
      "Test accuracy: 0.57\n",
      "---------------\n",
      "Iteration #1 (240 samples)\n",
      "Train accuracy: 1.00\n",
      "Test accuracy: 0.58\n",
      "---------------\n",
      "Iteration #2 (260 samples)\n",
      "Train accuracy: 1.00\n",
      "Test accuracy: 0.56\n",
      "---------------\n",
      "Iteration #3 (280 samples)\n",
      "Train accuracy: 1.00\n",
      "Test accuracy: 0.57\n",
      "---------------\n",
      "Iteration #4 (300 samples)\n",
      "Train accuracy: 1.00\n",
      "Test accuracy: 0.61\n",
      "---------------\n",
      "Iteration #5 (320 samples)\n",
      "Train accuracy: 1.00\n",
      "Test accuracy: 0.63\n",
      "---------------\n",
      "Iteration #6 (340 samples)\n",
      "Train accuracy: 1.00\n",
      "Test accuracy: 0.66\n",
      "---------------\n",
      "Iteration #7 (360 samples)\n",
      "Train accuracy: 1.00\n",
      "Test accuracy: 0.67\n",
      "---------------\n",
      "Iteration #8 (380 samples)\n",
      "Train accuracy: 1.00\n",
      "Test accuracy: 0.68\n",
      "---------------\n",
      "Iteration #9 (400 samples)\n",
      "Train accuracy: 1.00\n",
      "Test accuracy: 0.67\n",
      "---------------\n",
      "Iteration #10 (420 samples)\n",
      "Train accuracy: 0.99\n",
      "Test accuracy: 0.66\n",
      "---------------\n",
      "Iteration #11 (440 samples)\n",
      "Train accuracy: 1.00\n",
      "Test accuracy: 0.65\n",
      "---------------\n",
      "Iteration #12 (460 samples)\n",
      "Train accuracy: 0.99\n",
      "Test accuracy: 0.66\n",
      "---------------\n",
      "Iteration #13 (480 samples)\n",
      "Train accuracy: 0.99\n",
      "Test accuracy: 0.66\n",
      "---------------\n",
      "Iteration #14 (500 samples)\n",
      "Train accuracy: 0.99\n",
      "Test accuracy: 0.65\n",
      "---------------\n",
      "Iteration #15 (520 samples)\n",
      "Train accuracy: 0.98\n",
      "Test accuracy: 0.64\n",
      "---------------\n",
      "Iteration #16 (540 samples)\n",
      "Train accuracy: 0.98\n",
      "Test accuracy: 0.66\n",
      "---------------\n",
      "Iteration #17 (560 samples)\n",
      "Train accuracy: 0.98\n",
      "Test accuracy: 0.66\n",
      "---------------\n",
      "Iteration #18 (580 samples)\n",
      "Train accuracy: 0.98\n",
      "Test accuracy: 0.64\n",
      "---------------\n",
      "Iteration #19 (600 samples)\n",
      "Train accuracy: 0.99\n",
      "Test accuracy: 0.65\n",
      "---------------\n",
      "Iteration #20 (620 samples)\n",
      "Train accuracy: 0.99\n",
      "Test accuracy: 0.65\n",
      "---------------\n",
      "Iteration #21 (640 samples)\n",
      "Train accuracy: 0.99\n",
      "Test accuracy: 0.67\n",
      "---------------\n",
      "Iteration #22 (660 samples)\n",
      "Train accuracy: 0.98\n",
      "Test accuracy: 0.68\n",
      "---------------\n",
      "Iteration #23 (680 samples)\n",
      "Train accuracy: 0.98\n",
      "Test accuracy: 0.67\n",
      "---------------\n",
      "Iteration #24 (700 samples)\n",
      "Train accuracy: 0.99\n",
      "Test accuracy: 0.68\n",
      "---------------\n",
      "Iteration #25 (720 samples)\n",
      "Train accuracy: 0.99\n",
      "Test accuracy: 0.69\n",
      "---------------\n",
      "Iteration #26 (740 samples)\n",
      "Train accuracy: 0.98\n",
      "Test accuracy: 0.66\n",
      "---------------\n",
      "Iteration #27 (760 samples)\n",
      "Train accuracy: 0.98\n",
      "Test accuracy: 0.67\n",
      "---------------\n",
      "Iteration #28 (780 samples)\n",
      "Train accuracy: 0.98\n",
      "Test accuracy: 0.67\n",
      "---------------\n",
      "Iteration #29 (800 samples)\n",
      "Train accuracy: 0.98\n",
      "Test accuracy: 0.68\n",
      "---------------\n",
      "Iteration #30 (820 samples)\n",
      "Train accuracy: 0.98\n",
      "Test accuracy: 0.67\n",
      "---------------\n",
      "Iteration #31 (840 samples)\n",
      "Train accuracy: 0.98\n",
      "Test accuracy: 0.67\n",
      "---------------\n",
      "Iteration #32 (860 samples)\n",
      "Train accuracy: 0.98\n",
      "Test accuracy: 0.67\n",
      "---------------\n",
      "Iteration #33 (880 samples)\n",
      "Train accuracy: 0.98\n",
      "Test accuracy: 0.67\n",
      "---------------\n",
      "Iteration #34 (900 samples)\n",
      "Train accuracy: 0.98\n",
      "Test accuracy: 0.68\n",
      "---------------\n",
      "Iteration #35 (920 samples)\n",
      "Train accuracy: 0.98\n",
      "Test accuracy: 0.68\n",
      "---------------\n",
      "Iteration #36 (940 samples)\n",
      "Train accuracy: 0.99\n",
      "Test accuracy: 0.70\n",
      "---------------\n",
      "Iteration #37 (960 samples)\n",
      "Train accuracy: 0.98\n",
      "Test accuracy: 0.69\n",
      "---------------\n",
      "Iteration #38 (980 samples)\n",
      "Train accuracy: 0.98\n",
      "Test accuracy: 0.69\n",
      "---------------\n",
      "Iteration #39 (1000 samples)\n",
      "Train accuracy: 0.98\n",
      "Test accuracy: 0.69\n",
      "---------------\n",
      "Iteration #40 (1020 samples)\n",
      "Train accuracy: 0.98\n",
      "Test accuracy: 0.69\n",
      "---------------\n",
      "Iteration #41 (1040 samples)\n",
      "Train accuracy: 0.98\n",
      "Test accuracy: 0.70\n",
      "---------------\n",
      "Iteration #42 (1060 samples)\n",
      "Train accuracy: 0.98\n",
      "Test accuracy: 0.70\n",
      "---------------\n",
      "Iteration #43 (1080 samples)\n",
      "Train accuracy: 0.98\n",
      "Test accuracy: 0.70\n",
      "---------------\n",
      "Iteration #44 (1100 samples)\n",
      "Train accuracy: 0.98\n",
      "Test accuracy: 0.70\n",
      "---------------\n",
      "Iteration #45 (1120 samples)\n",
      "Train accuracy: 0.98\n",
      "Test accuracy: 0.69\n",
      "---------------\n",
      "Iteration #46 (1140 samples)\n",
      "Train accuracy: 0.98\n",
      "Test accuracy: 0.70\n",
      "---------------\n",
      "Iteration #47 (1160 samples)\n",
      "Train accuracy: 0.98\n",
      "Test accuracy: 0.71\n",
      "---------------\n",
      "Iteration #48 (1180 samples)\n",
      "Train accuracy: 0.98\n",
      "Test accuracy: 0.71\n",
      "---------------\n",
      "Iteration #49 (1200 samples)\n",
      "Train accuracy: 0.98\n",
      "Test accuracy: 0.70\n"
     ]
    }
   ],
   "source": [
    "from sklearn.metrics import accuracy_score, f1_score\n",
    "\n",
    "\n",
    "num_queries = 50\n",
    "\n",
    "\n",
    "def evaluate(active_learner, train, test):\n",
    "    y_pred = active_learner.classifier.predict(train)\n",
    "    y_pred_test = active_learner.classifier.predict(test)\n",
    "    \n",
    "    test_acc = f1_score(y_pred_test, test.y)\n",
    "\n",
    "    print('Train accuracy: {:.2f}'.format(f1_score(y_pred, train.y)))\n",
    "    print('Test accuracy: {:.2f}'.format(test_acc))\n",
    "    \n",
    "    return test_acc\n",
    "\n",
    "\n",
    "results = []\n",
    "results.append(evaluate(active_learner, train[indices_labeled], test))\n",
    "\n",
    "    \n",
    "for i in range(num_queries):\n",
    "    # ...where each iteration consists of labelling 20 samples\n",
    "    indices_queried = active_learner.query(num_samples=20)\n",
    "\n",
    "    # Simulate user interaction here. Replace this for real-world usage.\n",
    "    y = train.y[indices_queried]\n",
    "\n",
    "    # Return the labels for the current query to the active learner.\n",
    "    active_learner.update(y)\n",
    "\n",
    "    indices_labeled = np.concatenate([indices_queried, indices_labeled])\n",
    "    \n",
    "    print('---------------')\n",
    "    print(f'Iteration #{i} ({len(indices_labeled)} samples)')\n",
    "    results.append(evaluate(active_learner, train[indices_labeled], test))"
   ]
  },
  {
   "attachments": {},
   "cell_type": "markdown",
   "metadata": {},
   "source": [
    "## Plotting the Results\n",
    "\n",
    "Using the previously saved results we can plot a [learning curve](https://en.wikipedia.org/wiki/Learning_curve_(machine_learning)) to visualize the resulting accuracy on the test set."
   ]
  },
  {
   "cell_type": "code",
   "execution_count": 36,
   "metadata": {},
   "outputs": [
    {
     "data": {
      "image/png": "[encoded data removed]",
      "text/plain": [
       "<Figure size 1200x800 with 1 Axes>"
      ]
     },
     "metadata": {},
     "output_type": "display_data"
    }
   ],
   "source": [
    "%matplotlib inline\n",
    "import seaborn as sns\n",
    "import matplotlib.pyplot as plt\n",
    "import matplotlib.ticker as mtick\n",
    "\n",
    "fig = plt.figure(figsize=(12, 8))\n",
    "ax = plt.axes()\n",
    "ax.xaxis.set_major_locator(mtick.MaxNLocator(nbins=10, integer=True))\n",
    "plt.grid()\n",
    "\n",
    "data = np.vstack((np.arange(num_queries+1), np.array(results)))\n",
    "sns.lineplot(x=0, y=1, data=data)\n",
    "sns.scatterplot(x=0, y=1, data=data)\n",
    "\n",
    "ax.set_title('Incremental classification accuracy')\n",
    "ax.set_xlabel('Query iteration')\n",
    "ax.set_ylabel('Classification F1-Score')\n",
    "sns.despine()"
   ]
  },
  {
   "cell_type": "code",
   "execution_count": null,
   "metadata": {},
   "outputs": [],
   "source": []
  }
 ],
 "metadata": {
  "kernelspec": {
   "display_name": "Python 3",
   "language": "python",
   "name": "python3"
  },
  "language_info": {
   "codemirror_mode": {
    "name": "ipython",
    "version": 3
   },
   "file_extension": ".py",
   "mimetype": "text/x-python",
   "name": "python",
   "nbconvert_exporter": "python",
   "pygments_lexer": "ipython3",
   "version": "3.10.10"
  },
  "orig_nbformat": 4,
  "vscode": {
   "interpreter": {
    "hash": "54d34eb15bc19e870c85906dffc4ed4ccdb4244144914cfb1fc38adc4d047eab"
   }
  }
 },
 "nbformat": 4,
 "nbformat_minor": 2
}
